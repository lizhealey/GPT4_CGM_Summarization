{
  "nbformat": 4,
  "nbformat_minor": 0,
  "metadata": {
    "colab": {
      "provenance": []
    },
    "kernelspec": {
      "name": "ir",
      "display_name": "R"
    },
    "language_info": {
      "name": "R"
    }
  },
  "cells": [
    {
      "cell_type": "code",
      "source": [
        "install.packages('irrCAC')\n",
        "library(\"irrCAC\")\n",
        "data <- matrix(c(43, 1, 6, 0), nrow = 2, ncol = 2)\n",
        "print(gwet.ac1.table(data)$coeff.val)\n",
        "\n",
        "data <- matrix(c(2, 5, 2, 41), nrow = 2, ncol = 2)\n",
        "print(gwet.ac1.table(data)$coeff.val)\n",
        "\n",
        "data <- matrix(c(0, 0, 3, 47), nrow = 2, ncol = 2)\n",
        "print(gwet.ac1.table(data)$coeff.val)\n",
        "\n",
        "data <- matrix(c(36, 10, 3, 1), nrow = 2, ncol = 2)\n",
        "print(gwet.ac1.table(data)$coeff.val)\n",
        "\n",
        "data <- matrix(c(30, 9, 10, 1), nrow = 2, ncol = 2)\n",
        "print(gwet.ac1.table(data)$coeff.val)"
      ],
      "metadata": {
        "colab": {
          "base_uri": "https://localhost:8080/"
        },
        "id": "P2bN5IqKzsIw",
        "outputId": "bf27332f-03d2-4a84-8149-a31551f78f8f"
      },
      "execution_count": 55,
      "outputs": [
        {
          "output_type": "stream",
          "name": "stderr",
          "text": [
            "Installing package into ‘/usr/local/lib/R/site-library’\n",
            "(as ‘lib’ is unspecified)\n",
            "\n"
          ]
        },
        {
          "output_type": "stream",
          "name": "stdout",
          "text": [
            "[1] 0.8390435\n",
            "[1] 0.825914\n",
            "[1] 0.9362922\n",
            "[1] 0.6510067\n",
            "[1] 0.431308\n"
          ]
        }
      ]
    }
  ]
}
