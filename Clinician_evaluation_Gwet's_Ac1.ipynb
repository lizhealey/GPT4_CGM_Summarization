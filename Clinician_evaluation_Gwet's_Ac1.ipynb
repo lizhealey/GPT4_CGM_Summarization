{
  "nbformat": 4,
  "nbformat_minor": 0,
  "metadata": {
    "colab": {
      "provenance": []
    },
    "kernelspec": {
      "name": "ir",
      "display_name": "R"
    },
    "language_info": {
      "name": "R"
    }
  },
  "cells": [
    {
      "cell_type": "code",
      "source": [
        "install.packages('irrCAC')"
      ],
      "metadata": {
        "colab": {
          "base_uri": "https://localhost:8080/"
        },
        "id": "P2bN5IqKzsIw",
        "outputId": "988f8f52-2bdf-4d3b-cb67-ccdbd5363214"
      },
      "execution_count": 3,
      "outputs": [
        {
          "output_type": "stream",
          "name": "stderr",
          "text": [
            "Installing package into ‘/usr/local/lib/R/site-library’\n",
            "(as ‘lib’ is unspecified)\n",
            "\n"
          ]
        }
      ]
    },
    {
      "cell_type": "code",
      "execution_count": 38,
      "metadata": {
        "id": "RBkOtgLyzmf0"
      },
      "outputs": [],
      "source": [
        "library(\"irrCAC\")"
      ]
    },
    {
      "cell_type": "code",
      "source": [
        "data <- matrix(c(43, 1, 6, 0), nrow = 2, ncol = 2)\n",
        "print(gwet.ac1.table(data)$coeff.val)"
      ],
      "metadata": {
        "colab": {
          "base_uri": "https://localhost:8080/"
        },
        "id": "nbj6kAIM2Liz",
        "outputId": "4ee28d0d-9247-4ea8-fc5b-216f882ac371"
      },
      "execution_count": 44,
      "outputs": [
        {
          "output_type": "stream",
          "name": "stdout",
          "text": [
            "[1] 0.8390435\n"
          ]
        }
      ]
    },
    {
      "cell_type": "code",
      "source": [
        "data <- matrix(c(41, 2, 0, 0), nrow = 2, ncol = 2)\n",
        "print(gwet.ac1.table(data)$coeff.val)"
      ],
      "metadata": {
        "colab": {
          "base_uri": "https://localhost:8080/"
        },
        "id": "Fh_f7LNq1f1Y",
        "outputId": "e99f73de-6e0e-40f4-a818-3df092181cd5"
      },
      "execution_count": 35,
      "outputs": [
        {
          "output_type": "stream",
          "name": "stdout",
          "text": [
            "[1] 0.9512748\n"
          ]
        }
      ]
    },
    {
      "cell_type": "code",
      "source": [
        "data <- matrix(c(47, 0, 3, 0), nrow = 2, ncol = 2)\n",
        "print(gwet.ac1.table(data)$coeff.val)"
      ],
      "metadata": {
        "colab": {
          "base_uri": "https://localhost:8080/"
        },
        "id": "jcXqy3r914WS",
        "outputId": "c5b1e47b-6a4f-4b8f-b537-7b8087806c56"
      },
      "execution_count": 47,
      "outputs": [
        {
          "output_type": "stream",
          "name": "stdout",
          "text": [
            "[1] 0.9362922\n"
          ]
        }
      ]
    },
    {
      "cell_type": "code",
      "source": [
        "data <- matrix(c(36, 10, 3, 1), nrow = 2, ncol = 2)\n",
        "print(gwet.ac1.table(data)$coeff.val)"
      ],
      "metadata": {
        "colab": {
          "base_uri": "https://localhost:8080/"
        },
        "id": "Wy-XV9jb2iEu",
        "outputId": "611fc27b-ca7a-4198-b1fc-34ebc087551b"
      },
      "execution_count": 51,
      "outputs": [
        {
          "output_type": "stream",
          "name": "stdout",
          "text": [
            "[1] 0.6510067\n"
          ]
        }
      ]
    },
    {
      "cell_type": "code",
      "source": [
        "data <- matrix(c(30, 9, 10, 1), nrow = 2, ncol = 2)\n",
        "print(gwet.ac1.table(data)$coeff.val)"
      ],
      "metadata": {
        "colab": {
          "base_uri": "https://localhost:8080/"
        },
        "id": "y2HO5gQD2iHg",
        "outputId": "a165d6c8-6a09-432e-8cae-d488213d7bc3"
      },
      "execution_count": 53,
      "outputs": [
        {
          "output_type": "stream",
          "name": "stdout",
          "text": [
            "[1] 0.431308\n"
          ]
        }
      ]
    }
  ]
}